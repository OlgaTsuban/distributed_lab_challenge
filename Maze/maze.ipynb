{
 "cells": [
  {
   "cell_type": "code",
   "execution_count": 1,
   "id": "57f911d3",
   "metadata": {},
   "outputs": [],
   "source": [
    "# all necessary imports\n",
    "import matplotlib.pyplot as plt\n",
    "import numpy as np\n",
    "import random\n",
    "from queue import Queue"
   ]
  },
  {
   "cell_type": "markdown",
   "id": "3a0d9b57",
   "metadata": {},
   "source": [
    "### In this file are two versions of maze . Class realization and by functions."
   ]
  },
  {
   "cell_type": "markdown",
   "id": "162f6597",
   "metadata": {},
   "source": [
    "### Class realization"
   ]
  },
  {
   "cell_type": "code",
   "execution_count": 102,
   "id": "c22b3d56",
   "metadata": {},
   "outputs": [],
   "source": [
    "class Maze:\n",
    "    \n",
    "    def generate_maze(self, size):\n",
    "        \"\"\"\n",
    "        Generate a maze using depth-first search algorithm.\n",
    "\n",
    "        Args:\n",
    "            size (int): The size of the maze grid (excluding walls).\n",
    "\n",
    "        Returns:\n",
    "            numpy.ndarray: The generated maze represented as a numpy array,\n",
    "                           where 0s represent open paths and 1s represent walls.\n",
    "\n",
    "        Notes:\n",
    "            This method creates a maze using depth-first search algorithm by starting at a random point,\n",
    "            then moving in random directions while carving a path through the maze.\n",
    "\n",
    "        \"\"\"\n",
    "\n",
    "        maze = np.ones((size*2+1, size*2+1))\n",
    "        x, y = (0, 0)\n",
    "        maze[2*x+1, 2*y+1] = 0\n",
    "\n",
    "        stack = [(x, y)]\n",
    "        while len(stack) > 0:\n",
    "            x, y = stack[-1]\n",
    "            directions = [(0, 1), (1, 0), (0, -1), (-1, 0)]\n",
    "            random.shuffle(directions)\n",
    "\n",
    "            for dx, dy in directions:\n",
    "                nx, ny = x + dx, y + dy\n",
    "                if nx >= 0 and ny >= 0 and nx < size and ny < size and maze[2*nx+1, 2*ny+1] == 1:\n",
    "                    maze[2*nx+1, 2*ny+1] = 0\n",
    "                    maze[2*x+1+dx, 2*y+1+dy] = 0\n",
    "                    stack.append((nx, ny))\n",
    "                    break\n",
    "            else:\n",
    "                stack.pop()\n",
    "\n",
    "        maze[1, 0] = 0\n",
    "        maze[-2, -1] = 0\n",
    "        return maze\n",
    "\n",
    "    \n",
    "    def find_path(self, maze):\n",
    "        \"\"\"\n",
    "        Find the shortest path in the maze using Breadth-First Search (BFS) algorithm.\n",
    "\n",
    "        Args:\n",
    "            maze (numpy.ndarray): The maze represented as a numpy array.\n",
    "\n",
    "        Returns:\n",
    "            list or None: The shortest path from the starting point to the ending point,\n",
    "                          represented as a list of coordinates (x, y). Returns None if no path is found.\n",
    "\n",
    "        Notes:\n",
    "            This method assumes that the maze is represented as a numpy array with zeros indicating open paths\n",
    "            and ones indicating walls.\n",
    "\n",
    "        \"\"\"\n",
    "        directions = [(0, 1), (1, 0), (0, -1), (-1, 0)]\n",
    "        start = (1, 1)\n",
    "        end = (maze.shape[0]-2, maze.shape[1]-2)\n",
    "        visited = np.zeros_like(maze, dtype=bool)\n",
    "        visited[start] = True\n",
    "        queue = Queue()\n",
    "        queue.put((start, []))\n",
    "        while not queue.empty():\n",
    "            (node, path) = queue.get()\n",
    "            for dx, dy in directions:\n",
    "                next_node = (node[0]+dx, node[1]+dy)\n",
    "                if (next_node == end):\n",
    "                    return path + [next_node]\n",
    "                if (next_node[0] >= 0 and next_node[1] >= 0 and \n",
    "                    next_node[0] < maze.shape[0] and next_node[1] < maze.shape[1] and \n",
    "                    maze[next_node] == 0 and not visited[next_node]):\n",
    "                    visited[next_node] = True\n",
    "                    queue.put((next_node, path + [next_node]))\n",
    "                    \n",
    "    def draw_maze(self, maze, path=None):\n",
    "        \"\"\"\n",
    "        Display the maze with optional solution path.\n",
    "\n",
    "        Args:\n",
    "            maze (numpy.ndarray): The maze grid represented as a numpy array.\n",
    "            path (list, optional): The solution path through the maze. Defaults to None.\n",
    "\n",
    "        Returns:\n",
    "            None\n",
    "\n",
    "        Notes:\n",
    "            This method visualizes the maze grid along with an optional solution path.\n",
    "            It also draws entry and exit arrows indicating the start and end points of the maze.\n",
    "\n",
    "        \"\"\"\n",
    "        fig, ax = plt.subplots(figsize=(9,9))\n",
    "        fig.patch.set_edgecolor('white')\n",
    "        fig.patch.set_linewidth(0)\n",
    "\n",
    "        ax.imshow(maze, cmap=plt.cm.binary, interpolation='nearest')\n",
    "        if path is not None:\n",
    "            x_coords = [x[1] for x in path]\n",
    "            y_coords = [y[0] for y in path]\n",
    "            ax.plot(x_coords, y_coords, color='red', linewidth=2)\n",
    "\n",
    "        ax.set_xticks([])\n",
    "        ax.set_yticks([])\n",
    "\n",
    "        ax.arrow(0, 1, .4, 0, fc='#FF5733', ec='#FF5733', head_width=0.3, head_length=0.3)\n",
    "        ax.arrow(maze.shape[1] - 1, maze.shape[0]  - 2, 0.4, 0, fc='Cyan', ec='Cyan', head_width=0.3, head_length=0.3)\n",
    "\n",
    "        plt.show()\n",
    "        "
   ]
  },
  {
   "cell_type": "code",
   "execution_count": 103,
   "id": "a41d9476",
   "metadata": {},
   "outputs": [
    {
     "name": "stdout",
     "output_type": "stream",
     "text": [
      "Enter the size of the maze: 5\n"
     ]
    }
   ],
   "source": [
    "m = Maze()\n",
    "dim = int(input(\"Enter the size of the maze: \"))"
   ]
  },
  {
   "cell_type": "code",
   "execution_count": 104,
   "id": "c2b227c8",
   "metadata": {},
   "outputs": [
    {
     "data": {
      "image/png": "[encoded data removed]",
      "text/plain": [
       "<Figure size 900x900 with 1 Axes>"
      ]
     },
     "metadata": {},
     "output_type": "display_data"
    }
   ],
   "source": [
    "# maze\n",
    "maze = m.generate_maze(dim)\n",
    "m.draw_maze(maze)"
   ]
  },
  {
   "cell_type": "code",
   "execution_count": 105,
   "id": "4a7a0328",
   "metadata": {},
   "outputs": [
    {
     "data": {
      "image/png": "[encoded data removed]",
      "text/plain": [
       "<Figure size 900x900 with 1 Axes>"
      ]
     },
     "metadata": {},
     "output_type": "display_data"
    }
   ],
   "source": [
    "# maze solution\n",
    "path = m.find_path(maze)\n",
    "m.draw_maze(maze, path)"
   ]
  },
  {
   "cell_type": "markdown",
   "id": "5177d812",
   "metadata": {},
   "source": [
    "### Realization by functions"
   ]
  },
  {
   "cell_type": "code",
   "execution_count": 107,
   "id": "e5ea215f",
   "metadata": {},
   "outputs": [],
   "source": [
    "def generate_maze(size):\n",
    "    maze = np.ones((size*2+1, size*2+1))\n",
    "    x, y = (0, 0)\n",
    "    maze[2*x+1, 2*y+1] = 0\n",
    "    stack = [(x, y)]\n",
    "    while len(stack) > 0:\n",
    "        x, y = stack[-1]\n",
    "\n",
    "        directions = [(0, 1), (1, 0), (0, -1), (-1, 0)]\n",
    "        random.shuffle(directions)\n",
    "\n",
    "        for dx, dy in directions:\n",
    "            nx, ny = x + dx, y + dy\n",
    "            if nx >= 0 and ny >= 0 and nx < size and ny < size and maze[2*nx+1, 2*ny+1] == 1:\n",
    "                maze[2*nx+1, 2*ny+1] = 0\n",
    "                maze[2*x+1+dx, 2*y+1+dy] = 0\n",
    "                stack.append((nx, ny))\n",
    "                break\n",
    "        else:\n",
    "            stack.pop()\n",
    "            \n",
    "    maze[1, 0] = 0\n",
    "    maze[-2, -1] = 0\n",
    "\n",
    "    return maze"
   ]
  },
  {
   "cell_type": "code",
   "execution_count": 3,
   "id": "e31b5ae5",
   "metadata": {},
   "outputs": [],
   "source": [
    "# implement BFS algorithm \n",
    "def find_path(maze):\n",
    "    directions = [(0, 1), (1, 0), (0, -1), (-1, 0)]\n",
    "    start = (1, 1)\n",
    "    end = (maze.shape[0]-2, maze.shape[1]-2)\n",
    "    visited = np.zeros_like(maze, dtype=bool)\n",
    "    visited[start] = True\n",
    "    queue = Queue()\n",
    "    queue.put((start, []))\n",
    "    while not queue.empty():\n",
    "        (node, path) = queue.get()\n",
    "        for dx, dy in directions:\n",
    "            next_node = (node[0]+dx, node[1]+dy)\n",
    "            if (next_node == end):\n",
    "                return path + [next_node]\n",
    "            if (next_node[0] >= 0 and next_node[1] >= 0 and \n",
    "                next_node[0] < maze.shape[0] and next_node[1] < maze.shape[1] and \n",
    "                maze[next_node] == 0 and not visited[next_node]):\n",
    "                visited[next_node] = True\n",
    "                queue.put((next_node, path + [next_node]))"
   ]
  },
  {
   "cell_type": "code",
   "execution_count": 109,
   "id": "30663011",
   "metadata": {},
   "outputs": [],
   "source": [
    "def draw_maze(maze, path=None):\n",
    "    fig, ax = plt.subplots(figsize=(10,10))\n",
    "    fig.patch.set_edgecolor('white')\n",
    "    fig.patch.set_linewidth(0)\n",
    "    ax.imshow(maze, cmap=plt.cm.binary, interpolation='nearest')\n",
    "    \n",
    "    if path is not None:\n",
    "        x_coords = [x[1] for x in path]\n",
    "        y_coords = [y[0] for y in path]\n",
    "        ax.plot(x_coords, y_coords, color='red', linewidth=2)\n",
    "    \n",
    "    ax.set_xticks([])\n",
    "    ax.set_yticks([])\n",
    "    ax.arrow(0, 1, .4, 0, fc='cyan', ec='cyan', head_width=0.3, head_length=0.3)\n",
    "    ax.arrow(maze.shape[1] - 1, maze.shape[0]  - 2, 0.4, 0, fc='#FF5733', ec='#FF5733', head_width=0.3, head_length=0.3)\n",
    "    \n",
    "    plt.show()"
   ]
  },
  {
   "cell_type": "code",
   "execution_count": 110,
   "id": "44461ab6",
   "metadata": {},
   "outputs": [
    {
     "name": "stdout",
     "output_type": "stream",
     "text": [
      "Enter the size of the maze: 9\n"
     ]
    },
    {
     "data": {
      "image/png": "[encoded data removed]",
      "text/plain": [
       "<Figure size 1000x1000 with 1 Axes>"
      ]
     },
     "metadata": {},
     "output_type": "display_data"
    }
   ],
   "source": [
    "if __name__ == \"__main__\":\n",
    "    dim = int(input(\"Enter the size of the maze: \"))\n",
    "    maze = generate_maze(dim)\n",
    "    path = find_path(maze)\n",
    "    draw_maze(maze, path)"
   ]
  }
 ],
 "metadata": {
  "kernelspec": {
   "display_name": "Python 3 (ipykernel)",
   "language": "python",
   "name": "python3"
  },
  "language_info": {
   "codemirror_mode": {
    "name": "ipython",
    "version": 3
   },
   "file_extension": ".py",
   "mimetype": "text/x-python",
   "name": "python",
   "nbconvert_exporter": "python",
   "pygments_lexer": "ipython3",
   "version": "3.11.5"
  }
 },
 "nbformat": 4,
 "nbformat_minor": 5
}
